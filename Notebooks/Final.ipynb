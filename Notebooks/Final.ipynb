{
 "cells": [
  {
   "cell_type": "code",
   "execution_count": null,
   "metadata": {},
   "outputs": [],
   "source": [
    "import seaborn as sns \n",
    "import pandas as pd \n",
    "import numpy as np \n",
    "import matplotlib.pyplot as plt"
   ]
  },
  {
   "cell_type": "code",
   "execution_count": null,
   "metadata": {},
   "outputs": [],
   "source": [
    "df = pd.read_csv('../data/NEW2.csv')\n",
    "df = df[['price', 'grade', 'bedrooms', 'sqft_living', 'sqft_lot15', 'sqft_basement', 'zipcode']]\n",
    "print(df.shape)\n",
    "def get_clean_data(df):\n",
    "    for col in df.columns:\n",
    "        df[col] = pd.to_numeric(df[col], errors='coerce')\n",
    "        mean = df[col].mean()\n",
    "        std = df[col].std()\n",
    "        df = df[(df[col] < (mean + 5*std)) & (df[col] > (mean - 5*std))]\n",
    "    return df\n",
    "\n",
    "df = get_clean_data(df)\n",
    "print(df.shape)"
   ]
  },
  {
   "cell_type": "code",
   "execution_count": null,
   "metadata": {},
   "outputs": [],
   "source": [
    "def get_heatmap(df):\n",
    "    '''This function will create a heatmap to compare the different independent variables of our model'''\n",
    "    sns.heatmap(df.drop(['price', 'zipcode'], axis = 1).corr(), annot = True)\n",
    "    plt.title('Correlations of the Independent Variables')\n",
    "    \n",
    "get_heatmap(df)"
   ]
  },
  {
   "cell_type": "markdown",
   "metadata": {},
   "source": [
    "### Regression"
   ]
  },
  {
   "cell_type": "code",
   "execution_count": null,
   "metadata": {},
   "outputs": [],
   "source": [
    "from sklearn.preprocessing import StandardScaler, PolynomialFeatures, MinMaxScaler\n",
    "from sklearn.impute import SimpleImputer\n",
    "from sklearn.linear_model import LinearRegression\n",
    "from sklearn.model_selection import train_test_split\n",
    "from sklearn.metrics import mean_squared_error, mean_absolute_error\n",
    "import statsmodels.api as sm \n",
    "import pandas as pd"
   ]
  },
  {
   "cell_type": "code",
   "execution_count": null,
   "metadata": {},
   "outputs": [],
   "source": []
  },
  {
   "cell_type": "code",
   "execution_count": null,
   "metadata": {},
   "outputs": [],
   "source": [
    "X = df[[i for i in df.columns if i != 'price']]\n",
    "y = df[['price']]/1000000\n",
    "X = sm.add_constant(X)\n",
    "x_train, x_test, y_train, y_test = train_test_split(X,y, random_state = 0, train_size = .8, stratify = X.zipcode.values)\n",
    "x_train.drop('zipcode', axis = 1, inplace =True)\n",
    "x_test.drop('zipcode', axis = 1, inplace = True)\n",
    "\n",
    "def regression(x_train= x_train,y_train=y_train):\n",
    "    '''This function will create and retrun a regression model'''\n",
    "    linear = sm.OLS(y_train,x_train, hasconst = True).fit() \n",
    "    summary = linear.summary()\n",
    "    print(summary)\n",
    "    \n",
    "    return linear \n",
    "\n",
    "model = regression()\n",
    "\n"
   ]
  },
  {
   "cell_type": "code",
   "execution_count": null,
   "metadata": {},
   "outputs": [],
   "source": [
    "def scatter(model, x_test=x_test, y_test=y_test): \n",
    "    '''This function will create a scatter plot for the residuals of the model'''\n",
    "    predictions = model.predict(x_test)\n",
    "    residuals = predictions - y_test.values.squeeze() \n",
    "\n",
    "    plt.scatter(predictions, residuals)\n",
    "    plt.hlines(y = 0, xmin = predictions.min(), xmax = predictions.max())\n",
    "    plt.vlines(x = 1,ymin = residuals.min(), ymax = residuals.max())\n",
    "    plt.xlabel('Predictions ($ millions)'); plt.ylabel('Residuals (predicted - actual)'); \n",
    "    loss = mean_squared_error(y_test, predictions)*1000000\n",
    "    plt.title(f'Residuals for Linear Regression Model | RMSE: {int(round(loss, 0))}')\n",
    "    \n",
    "scatter(model = model)"
   ]
  },
  {
   "cell_type": "code",
   "execution_count": null,
   "metadata": {},
   "outputs": [],
   "source": []
  },
  {
   "cell_type": "code",
   "execution_count": null,
   "metadata": {},
   "outputs": [],
   "source": []
  },
  {
   "cell_type": "code",
   "execution_count": null,
   "metadata": {},
   "outputs": [],
   "source": []
  }
 ],
 "metadata": {
  "kernelspec": {
   "display_name": "Python 3",
   "language": "python",
   "name": "python3"
  },
  "language_info": {
   "codemirror_mode": {
    "name": "ipython",
    "version": 3
   },
   "file_extension": ".py",
   "mimetype": "text/x-python",
   "name": "python",
   "nbconvert_exporter": "python",
   "pygments_lexer": "ipython3",
   "version": "3.7.6"
  }
 },
 "nbformat": 4,
 "nbformat_minor": 4
}
