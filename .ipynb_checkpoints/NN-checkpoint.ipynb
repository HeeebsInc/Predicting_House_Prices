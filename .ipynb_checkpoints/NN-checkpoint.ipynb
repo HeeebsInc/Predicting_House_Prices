{
 "cells": [
  {
   "cell_type": "code",
   "execution_count": 1,
   "metadata": {},
   "outputs": [
    {
     "name": "stderr",
     "output_type": "stream",
     "text": [
      "Using TensorFlow backend.\n"
     ]
    }
   ],
   "source": [
    "from keras.models import Sequential\n",
    "from keras.layers import Dense, Dropout\n",
    "from keras.models import model_from_json\n",
    "from keras.optimizers import Adam\n",
    "\n",
    "from sklearn.model_selection import train_test_split\n",
    "from sklearn.preprocessing import MinMaxScaler, StandardScaler\n",
    "import pandas as pd\n",
    "import numpy as np\n",
    "import matplotlib.pyplot as plt\n",
    "\n",
    "\n",
    "\n",
    "pd.options.display.max_columns = None\n",
    "pd.options.display.max_rows = 100\n",
    "\n"
   ]
  },
  {
   "cell_type": "code",
   "execution_count": 2,
   "metadata": {},
   "outputs": [
    {
     "data": {
      "text/html": [
       "<div>\n",
       "<style scoped>\n",
       "    .dataframe tbody tr th:only-of-type {\n",
       "        vertical-align: middle;\n",
       "    }\n",
       "\n",
       "    .dataframe tbody tr th {\n",
       "        vertical-align: top;\n",
       "    }\n",
       "\n",
       "    .dataframe thead th {\n",
       "        text-align: right;\n",
       "    }\n",
       "</style>\n",
       "<table border=\"1\" class=\"dataframe\">\n",
       "  <thead>\n",
       "    <tr style=\"text-align: right;\">\n",
       "      <th></th>\n",
       "      <th>id</th>\n",
       "      <th>date</th>\n",
       "      <th>price</th>\n",
       "      <th>bedrooms</th>\n",
       "      <th>bathrooms</th>\n",
       "      <th>sqft_living</th>\n",
       "      <th>sqft_lot</th>\n",
       "      <th>floors</th>\n",
       "      <th>waterfront</th>\n",
       "      <th>view</th>\n",
       "      <th>condition</th>\n",
       "      <th>grade</th>\n",
       "      <th>sqft_above</th>\n",
       "      <th>sqft_basement</th>\n",
       "      <th>yr_built</th>\n",
       "      <th>yr_renovated</th>\n",
       "      <th>zipcode</th>\n",
       "      <th>lat</th>\n",
       "      <th>long</th>\n",
       "      <th>sqft_living15</th>\n",
       "      <th>sqft_lot15</th>\n",
       "    </tr>\n",
       "  </thead>\n",
       "  <tbody>\n",
       "    <tr>\n",
       "      <th>4542</th>\n",
       "      <td>7201800300</td>\n",
       "      <td>9/9/2014</td>\n",
       "      <td>0.3975</td>\n",
       "      <td>3</td>\n",
       "      <td>1.75</td>\n",
       "      <td>1300</td>\n",
       "      <td>8480</td>\n",
       "      <td>1.0</td>\n",
       "      <td>0.0</td>\n",
       "      <td>0.0</td>\n",
       "      <td>3</td>\n",
       "      <td>7</td>\n",
       "      <td>1300</td>\n",
       "      <td>0.0</td>\n",
       "      <td>1969</td>\n",
       "      <td>0.0</td>\n",
       "      <td>98052</td>\n",
       "      <td>47.6991</td>\n",
       "      <td>-122.130</td>\n",
       "      <td>1740</td>\n",
       "      <td>7280</td>\n",
       "    </tr>\n",
       "    <tr>\n",
       "      <th>7888</th>\n",
       "      <td>5470100220</td>\n",
       "      <td>9/9/2014</td>\n",
       "      <td>0.2220</td>\n",
       "      <td>3</td>\n",
       "      <td>1.50</td>\n",
       "      <td>1310</td>\n",
       "      <td>9273</td>\n",
       "      <td>1.0</td>\n",
       "      <td>0.0</td>\n",
       "      <td>0.0</td>\n",
       "      <td>4</td>\n",
       "      <td>7</td>\n",
       "      <td>1310</td>\n",
       "      <td>0.0</td>\n",
       "      <td>1968</td>\n",
       "      <td>0.0</td>\n",
       "      <td>98042</td>\n",
       "      <td>47.3683</td>\n",
       "      <td>-122.147</td>\n",
       "      <td>1710</td>\n",
       "      <td>9600</td>\n",
       "    </tr>\n",
       "    <tr>\n",
       "      <th>14566</th>\n",
       "      <td>9528104910</td>\n",
       "      <td>9/9/2014</td>\n",
       "      <td>0.7960</td>\n",
       "      <td>4</td>\n",
       "      <td>3.25</td>\n",
       "      <td>2110</td>\n",
       "      <td>3000</td>\n",
       "      <td>2.0</td>\n",
       "      <td>0.0</td>\n",
       "      <td>0.0</td>\n",
       "      <td>3</td>\n",
       "      <td>8</td>\n",
       "      <td>2110</td>\n",
       "      <td>0.0</td>\n",
       "      <td>2001</td>\n",
       "      <td>0.0</td>\n",
       "      <td>98115</td>\n",
       "      <td>47.6769</td>\n",
       "      <td>-122.328</td>\n",
       "      <td>1780</td>\n",
       "      <td>4000</td>\n",
       "    </tr>\n",
       "  </tbody>\n",
       "</table>\n",
       "</div>"
      ],
      "text/plain": [
       "               id      date   price  bedrooms  bathrooms  sqft_living  \\\n",
       "4542   7201800300  9/9/2014  0.3975         3       1.75         1300   \n",
       "7888   5470100220  9/9/2014  0.2220         3       1.50         1310   \n",
       "14566  9528104910  9/9/2014  0.7960         4       3.25         2110   \n",
       "\n",
       "       sqft_lot  floors  waterfront  view  condition  grade  sqft_above  \\\n",
       "4542       8480     1.0         0.0   0.0          3      7        1300   \n",
       "7888       9273     1.0         0.0   0.0          4      7        1310   \n",
       "14566      3000     2.0         0.0   0.0          3      8        2110   \n",
       "\n",
       "       sqft_basement  yr_built  yr_renovated  zipcode      lat     long  \\\n",
       "4542             0.0      1969           0.0    98052  47.6991 -122.130   \n",
       "7888             0.0      1968           0.0    98042  47.3683 -122.147   \n",
       "14566            0.0      2001           0.0    98115  47.6769 -122.328   \n",
       "\n",
       "       sqft_living15  sqft_lot15  \n",
       "4542            1740        7280  \n",
       "7888            1710        9600  \n",
       "14566           1780        4000  "
      ]
     },
     "execution_count": 2,
     "metadata": {},
     "output_type": "execute_result"
    }
   ],
   "source": [
    "df = pd.read_csv('Data/kc_house_data.csv').drop('Unnamed: 0', axis = 1).dropna().sort_values(by= 'date', ascending = False)\n",
    "df['price'] = df.price.map(lambda x: x/1000000)\n",
    "df.head(3)"
   ]
  },
  {
   "cell_type": "code",
   "execution_count": null,
   "metadata": {},
   "outputs": [],
   "source": []
  },
  {
   "cell_type": "code",
   "execution_count": 3,
   "metadata": {},
   "outputs": [],
   "source": [
    "random_state = 10 \n",
    "\n",
    "\n",
    "\n",
    "standard = StandardScaler()\n",
    "min_max = MinMaxScaler()\n",
    "ignore_col = 'id date price'.split()\n",
    "#x = df[['bathrooms', 'sqft_living', 'grade', 'sqft_above', 'sqft_living15']]\n",
    "x = df[[i for i in df.columns if i not in ignore_col]]\n",
    "y = df[['price']]\n",
    "\n",
    "x = standard.fit_transform(x)\n",
    "x_train, x_test, y_train, y_test = train_test_split(x, y, train_size = .8, random_state = random_state)"
   ]
  },
  {
   "cell_type": "code",
   "execution_count": 9,
   "metadata": {},
   "outputs": [],
   "source": [
    "def sequential_AAN(x,y, metrics = ['mae']): \n",
    "    drop = .2\n",
    "\n",
    "    model = Sequential()\n",
    "    \n",
    "    model.add(Dense(128,input_dim = x.shape[1], activation = 'linear'))\n",
    "    model.add(Dropout(drop)) #regularization\n",
    "\n",
    "    \n",
    "    model.add(Dense(64 , activation = 'linear'))\n",
    "    model.add(Dropout(drop))\n",
    "\n",
    "    model.add(Dense(32, activation = 'linear'))\n",
    "    model.add(Dropout(drop)) \n",
    "    \n",
    "#     model.add(Dense(128, activation = 'relu'))\n",
    "#     model.add(Dropout(drop)) \n",
    "\n",
    "    \n",
    "    model.add(Dense(1))\n",
    "    model.compile(loss = 'mse', optimizer = 'sgd', metrics = metrics)\n",
    "    return model"
   ]
  },
  {
   "cell_type": "code",
   "execution_count": 6,
   "metadata": {},
   "outputs": [
    {
     "name": "stdout",
     "output_type": "stream",
     "text": [
      "Epoch 1/15\n",
      "789/789 [==============================] - 2s 2ms/step - loss: 0.0917 - mae: 0.1962 - val_loss: 0.0470 - val_mae: 0.1317\n",
      "Epoch 2/15\n",
      "789/789 [==============================] - 1s 2ms/step - loss: 0.0590 - mae: 0.1534 - val_loss: 0.0454 - val_mae: 0.1279\n",
      "Epoch 3/15\n",
      "789/789 [==============================] - 1s 2ms/step - loss: 0.0511 - mae: 0.1434 - val_loss: 0.0379 - val_mae: 0.1194\n",
      "Epoch 4/15\n",
      "789/789 [==============================] - 1s 1ms/step - loss: 0.0503 - mae: 0.1367 - val_loss: 0.0383 - val_mae: 0.1185\n",
      "Epoch 5/15\n",
      "789/789 [==============================] - 1s 2ms/step - loss: 0.0443 - mae: 0.1327 - val_loss: 0.0336 - val_mae: 0.1129\n",
      "Epoch 6/15\n",
      "789/789 [==============================] - 1s 2ms/step - loss: 0.0441 - mae: 0.1318 - val_loss: 0.0304 - val_mae: 0.1116\n",
      "Epoch 7/15\n",
      "789/789 [==============================] - 1s 2ms/step - loss: 0.0424 - mae: 0.1291 - val_loss: 0.0529 - val_mae: 0.1305\n",
      "Epoch 8/15\n",
      "789/789 [==============================] - 1s 1ms/step - loss: 0.0423 - mae: 0.1260 - val_loss: 0.0396 - val_mae: 0.1164\n",
      "Epoch 9/15\n",
      "789/789 [==============================] - 1s 1ms/step - loss: 0.0415 - mae: 0.1255 - val_loss: 0.0294 - val_mae: 0.1065\n",
      "Epoch 10/15\n",
      "789/789 [==============================] - 1s 1ms/step - loss: 0.0389 - mae: 0.1245 - val_loss: 0.0313 - val_mae: 0.1077\n",
      "Epoch 11/15\n",
      "789/789 [==============================] - 1s 1ms/step - loss: 0.0379 - mae: 0.1224 - val_loss: 0.0327 - val_mae: 0.1103\n",
      "Epoch 12/15\n",
      "789/789 [==============================] - 1s 1ms/step - loss: 0.0383 - mae: 0.1223 - val_loss: 0.0357 - val_mae: 0.1109\n",
      "Epoch 13/15\n",
      "789/789 [==============================] - 1s 1ms/step - loss: 0.0367 - mae: 0.1205 - val_loss: 0.0333 - val_mae: 0.1083\n",
      "Epoch 14/15\n",
      "789/789 [==============================] - 1s 1ms/step - loss: 0.0377 - mae: 0.1204 - val_loss: 0.0328 - val_mae: 0.1090\n",
      "Epoch 15/15\n",
      "789/789 [==============================] - 1s 1ms/step - loss: 0.0381 - mae: 0.1196 - val_loss: 0.0291 - val_mae: 0.1039\n"
     ]
    }
   ],
   "source": [
    "epochs = 15\n",
    "seq_model = sequential_AAN(x_train, y_train)\n",
    "seq_history = seq_model.fit(x_train, y_train, epochs = epochs, batch_size = 16, validation_data = (x_test, y_test))"
   ]
  },
  {
   "cell_type": "code",
   "execution_count": 7,
   "metadata": {},
   "outputs": [],
   "source": [
    "# json = open('models/ANN_Model.json', 'r')\n",
    "# ann_json = json.read()\n",
    "# json.close()\n",
    "# seq_ann = model_from_json(ann_json)\n",
    "# seq_ann.load_weights('models/ANN_Model_Weights.h5')"
   ]
  },
  {
   "cell_type": "code",
   "execution_count": 8,
   "metadata": {},
   "outputs": [],
   "source": [
    "ann_json = seq_model.to_json()\n",
    "with open('Models/ANN_Model.json', 'w') as file:\n",
    "    file.write(ann_json)\n",
    "    \n",
    "seq_model.save('Models/ANN_Model_Weights.h5')"
   ]
  },
  {
   "cell_type": "code",
   "execution_count": 12,
   "metadata": {},
   "outputs": [
    {
     "ename": "TypeError",
     "evalue": "'History' object is not subscriptable",
     "output_type": "error",
     "traceback": [
      "\u001b[0;31m---------------------------------------------------------------------------\u001b[0m",
      "\u001b[0;31mTypeError\u001b[0m                                 Traceback (most recent call last)",
      "\u001b[0;32m<ipython-input-12-5442814f1a47>\u001b[0m in \u001b[0;36m<module>\u001b[0;34m\u001b[0m\n\u001b[0;32m----> 1\u001b[0;31m \u001b[0mseq_history\u001b[0m\u001b[0;34m[\u001b[0m\u001b[0;34m'history'\u001b[0m\u001b[0;34m]\u001b[0m\u001b[0;34m[\u001b[0m\u001b[0;34m'loss'\u001b[0m\u001b[0;34m]\u001b[0m\u001b[0;34m\u001b[0m\u001b[0;34m\u001b[0m\u001b[0m\n\u001b[0m",
      "\u001b[0;31mTypeError\u001b[0m: 'History' object is not subscriptable"
     ]
    }
   ],
   "source": [
    "seq_history['history']['loss']"
   ]
  },
  {
   "cell_type": "code",
   "execution_count": null,
   "metadata": {},
   "outputs": [],
   "source": []
  }
 ],
 "metadata": {
  "kernelspec": {
   "display_name": "Python 3",
   "language": "python",
   "name": "python3"
  },
  "language_info": {
   "codemirror_mode": {
    "name": "ipython",
    "version": 3
   },
   "file_extension": ".py",
   "mimetype": "text/x-python",
   "name": "python",
   "nbconvert_exporter": "python",
   "pygments_lexer": "ipython3",
   "version": "3.7.6"
  }
 },
 "nbformat": 4,
 "nbformat_minor": 4
}
